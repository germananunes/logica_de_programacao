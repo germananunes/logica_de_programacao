{
  "nbformat": 4,
  "nbformat_minor": 0,
  "metadata": {
    "colab": {
      "provenance": [],
      "authorship_tag": "ABX9TyOCP75Z3UlS4aW1CFZqJLIJ",
      "include_colab_link": true
    },
    "kernelspec": {
      "name": "python3",
      "display_name": "Python 3"
    },
    "language_info": {
      "name": "python"
    }
  },
  "cells": [
    {
      "cell_type": "markdown",
      "metadata": {
        "id": "view-in-github",
        "colab_type": "text"
      },
      "source": [
        "<a href=\"https://colab.research.google.com/github/germananunes/logica_de_programacao/blob/main/Exerc%C3%ADcios_primeira_semana_de_aula_12_a_16_de_setembro.ipynb\" target=\"_parent\"><img src=\"https://colab.research.google.com/assets/colab-badge.svg\" alt=\"Open In Colab\"/></a>"
      ]
    },
    {
      "cell_type": "code",
      "execution_count": null,
      "metadata": {
        "id": "TC7uEoK62CbA"
      },
      "outputs": [],
      "source": []
    },
    {
      "cell_type": "markdown",
      "source": [
        "## Exercícios\n",
        "\n",
        "\n",
        "\n",
        "*   Faça um Programa que peça dois números e imprima a soma\n",
        "\n",
        "\n",
        "*   Faça um Programa que converta metros para centímetros\n",
        "\n",
        "*   Faça um Programa que calcule a área de um quadrado, em seguida mostre o dobro desta área para o usuário.\n",
        "\n",
        "* Tendo como dados de entrada a altura de uma pessoa, construa um algoritmo que calcule seu peso ideal, usando a seguinte fórmula: (72.7*altura) - 58\n",
        "\n",
        "* Resolva a seguinte expressão numérica: 1440 : { 30 . [ 20 + ( 49 - 35 ) . 2 ] }\n"
      ],
      "metadata": {
        "id": "Uot-Hjm_XGaZ"
      }
    },
    {
      "cell_type": "code",
      "source": [
        "a = float(input(\"Digite um número:\"))\n",
        "b = float(input(\"Digite outro número:\"))\n",
        "print(a+b)\n"
      ],
      "metadata": {
        "colab": {
          "base_uri": "https://localhost:8080/"
        },
        "id": "vf61MhuAXHsD",
        "outputId": "f908311c-8496-4f8e-9b4c-cb8022d0d627"
      },
      "execution_count": null,
      "outputs": [
        {
          "output_type": "stream",
          "name": "stdout",
          "text": [
            "Digite um número:2\n",
            "Digite outro número:2\n",
            "4.0\n"
          ]
        }
      ]
    },
    {
      "cell_type": "code",
      "source": [
        "x = float(input(\"Digite um valor em centímetros que deseje converter em metros:\"))\n",
        "metros = x*100\n",
        "print(f\"{metros} m\")"
      ],
      "metadata": {
        "colab": {
          "base_uri": "https://localhost:8080/"
        },
        "id": "dl5uqJE5XYm2",
        "outputId": "4ac7bdef-1c20-4cce-c844-e2fc1c4f39a9"
      },
      "execution_count": null,
      "outputs": [
        {
          "output_type": "stream",
          "name": "stdout",
          "text": [
            "Digite um valor em centímetros que deseje converter em metros:45.3\n",
            "4530.0 m\n"
          ]
        }
      ]
    },
    {
      "cell_type": "code",
      "source": [
        "l = float(input(\"Diga o valor do lado do quadrado:\"))\n",
        "area = l**2\n",
        "print(f\"A área do quadrado é {area}\")"
      ],
      "metadata": {
        "colab": {
          "base_uri": "https://localhost:8080/"
        },
        "id": "S83p_d-DYKn7",
        "outputId": "41fe0a17-e1a4-4033-a95d-b6338135ce0a"
      },
      "execution_count": null,
      "outputs": [
        {
          "output_type": "stream",
          "name": "stdout",
          "text": [
            "Diga o valor do lado do quadrado:2\n",
            "A área do quadrado é 4.0\n"
          ]
        }
      ]
    },
    {
      "cell_type": "code",
      "source": [
        "altura = float(input(\"Digite sua altura:\"))\n",
        "peso_ideal = (72.7*altura) - 58\n",
        "print(peso_ideal)"
      ],
      "metadata": {
        "colab": {
          "base_uri": "https://localhost:8080/"
        },
        "id": "Ap6c2Z-sYlE3",
        "outputId": "02d01ae4-039f-4726-cd43-ae7dfcbb8dc2"
      },
      "execution_count": null,
      "outputs": [
        {
          "output_type": "stream",
          "name": "stdout",
          "text": [
            "Digite sua altura:1.63\n",
            "60.50099999999999\n"
          ]
        }
      ]
    },
    {
      "cell_type": "code",
      "source": [
        "#1440 : { 30 . [ 20 + ( 49 - 35 ) . 2 ] }\n",
        "\n",
        "num = 1440/(30*(20+((49-35)*2)))\n",
        "print(num)"
      ],
      "metadata": {
        "colab": {
          "base_uri": "https://localhost:8080/"
        },
        "id": "HDJWOUrvZWbn",
        "outputId": "e81f9d3d-aa69-45c5-bffc-a5098c52d9c8"
      },
      "execution_count": null,
      "outputs": [
        {
          "output_type": "stream",
          "name": "stdout",
          "text": [
            "1.0\n"
          ]
        }
      ]
    },
    {
      "cell_type": "code",
      "source": [],
      "metadata": {
        "id": "mXwQ9HK3agJ5"
      },
      "execution_count": null,
      "outputs": []
    },
    {
      "cell_type": "markdown",
      "source": [
        "## Exercícios\n",
        "\n",
        "\n",
        "\n",
        "*   Faça um Programa que verifique se uma letra digitada é vogal ou consoante.\n",
        "\n",
        "\n",
        "*   Faça um programa para a leitura de duas notas parciais de um aluno. O programa deve calcular a média alcançada por aluno e apresentar:\n",
        " * A mensagem \"Aprovado\", se a média alcançada for maior ou igual a sete;\n",
        " * A mensagem \"Reprovado\", se a média for menor do que sete;\n",
        " * A mensagem \"Aprovado com Distinção\", se a média for igual a dez.\n",
        "* Fac¸a um programa que mostre ao usuario um menu com 4 opcôes de operacões matemáticas (as básicas, por exemplo). O usuário escolhe uma das opcões e o seu programa entao pede dois valores numéricos e realiza a operacão, mostrando o resultado e saindo.\n"
      ],
      "metadata": {
        "id": "S8YSh59FbPpi"
      }
    },
    {
      "cell_type": "code",
      "source": [
        "letra = input(\"Digite uma letra:\")\n",
        "if letra == 'a' or letra == 'e' or letra == 'i' or letra == 'o' or letra == 'u':\n",
        "  print(f\" {letra} é uma vogal\")\n",
        "else:\n",
        "  print(f\"{letra} é uma consoante\")"
      ],
      "metadata": {
        "colab": {
          "base_uri": "https://localhost:8080/"
        },
        "id": "SdVxtH4mbQa2",
        "outputId": "94a29791-e3a4-4561-af7c-26f2b259ab87"
      },
      "execution_count": null,
      "outputs": [
        {
          "output_type": "stream",
          "name": "stdout",
          "text": [
            "Digite uma letra:b\n",
            "b é uma consoante\n"
          ]
        }
      ]
    },
    {
      "cell_type": "code",
      "source": [
        "nota_1 = float(input(\"Digite sua primeira nota:\"))\n",
        "nota_2 = float(input(\"Digite sua segunda nota:\"))\n",
        "\n",
        "media = (nota_1 + nota_2)/2\n",
        "\n",
        "if  7 <= media < 10:\n",
        "  print(f\"Sua média é {media}. Aprovado.\")\n",
        "elif media == 10:\n",
        "    print(f\"Sua média é {media}. Aprovado com distinção.\")\n",
        "elif media < 7:\n",
        "  print(f\"Sua média é {media}. Reprovado.\")"
      ],
      "metadata": {
        "colab": {
          "base_uri": "https://localhost:8080/"
        },
        "id": "s4qbJHDZcaGn",
        "outputId": "f0e2f4b3-35f4-487d-9733-527cb35add76"
      },
      "execution_count": null,
      "outputs": [
        {
          "output_type": "stream",
          "name": "stdout",
          "text": [
            "Digite sua primeira nota:5\n",
            "Digite sua segunda nota:3\n",
            "Sua média é 4.0. Reprovado.\n"
          ]
        }
      ]
    },
    {
      "cell_type": "code",
      "source": [
        "print(\"Operações disponíveis: /// [soma] /// [sub] /// [mult] /// [div]\")\n",
        "opera = input(\"Escolha uma operação:\")\n",
        "num1 = int(input(\"Agora escolha um número:\"))\n",
        "num2 = int(input(\"Escolha outra número:\"))\n",
        "\n",
        "if opera == 'soma':\n",
        "  print(num1 + num2)\n",
        "elif opera == 'sub':\n",
        "  print(num1-num2)\n",
        "elif opera == 'mult':\n",
        "  print(num1 * num2)\n",
        "elif opera == 'div':\n",
        "  print(num1/num2)\n",
        "else:\n",
        "  print(\"A operação informada não é válida.\")"
      ],
      "metadata": {
        "colab": {
          "base_uri": "https://localhost:8080/"
        },
        "id": "zsy8-eyfekyG",
        "outputId": "31fd6b97-093e-4b4d-fe8d-ced46bca949e"
      },
      "execution_count": null,
      "outputs": [
        {
          "output_type": "stream",
          "name": "stdout",
          "text": [
            "Operações disponíveis: /// [soma] /// [sub] /// [mult] /// [div]\n",
            "Escolha uma operação:soma\n",
            "Agora escolha um número:4\n",
            "Escolha outra número:2\n",
            "6\n"
          ]
        }
      ]
    },
    {
      "cell_type": "code",
      "source": [],
      "metadata": {
        "id": "LlWvJ0Q0glrS"
      },
      "execution_count": null,
      "outputs": []
    }
  ]
}