{
  "nbformat": 4,
  "nbformat_minor": 0,
  "metadata": {
    "colab": {
      "provenance": [],
      "include_colab_link": true
    },
    "kernelspec": {
      "name": "python3",
      "display_name": "Python 3"
    },
    "language_info": {
      "name": "python"
    }
  },
  "cells": [
    {
      "cell_type": "markdown",
      "metadata": {
        "id": "view-in-github",
        "colab_type": "text"
      },
      "source": [
        "<a href=\"https://colab.research.google.com/github/germananunes/logica_de_programacao/blob/main/exerc%C3%ADcio_21_10.ipynb\" target=\"_parent\"><img src=\"https://colab.research.google.com/assets/colab-badge.svg\" alt=\"Open In Colab\"/></a>"
      ]
    },
    {
      "cell_type": "code",
      "execution_count": null,
      "metadata": {
        "id": "uCSDRoPDobjx"
      },
      "outputs": [],
      "source": [
        "\n",
        "def cadastro_notas() -> list:\n",
        "  lista_aluno = [input('Nome:'),float(input('Nota 01:')),\n",
        "                 float(input('Nota 02:')),float(input('Nota 03:'))]\n",
        "  media = (lista_aluno[1]+lista_aluno[2]+lista_aluno[3])/3\n",
        "  lista_aluno.append(round(media,2))\n",
        "  return lista_aluno\n",
        "\n",
        "def notas_cadastradas() -> list:\n",
        "  lista = [['Aluno', 'Nota 01', 'Nota 02', 'Nota 03','Média'], \n",
        "           ['germana', 10.0, 7.0, 8.0, 8.33], \n",
        "           ['anthony', 10.0, 7.0, 8.0, 8.33], \n",
        "           ['cristina', 10.0, 7.0, 8.0, 8.33],\n",
        "           ['alexandre', 10.0, 7.0, 8.0, 8.33],\n",
        "           ['ivisson', 10.0, 7.0, 8.0, 8.33]]\n",
        "  return lista\n",
        "\n",
        "def banco_dados() -> list: \n",
        "  cadastro = []\n",
        "  lista_temp = cadastro_notas()\n",
        "  cadastro.append(lista_temp)\n",
        "  r = input(\"Deseja cadastrar mais um aluno? [S/N]\")\n",
        "  while r in 'Ss':\n",
        "    lista_temp = cadastro_notas()\n",
        "    cadastro.append(lista_temp)\n",
        "    r = input(\"Deseja cadastrar mais um aluno? [S/N]\")\n",
        "    if r in 'Nn':\n",
        "      break\n",
        "  return cadastro\n",
        "\n",
        "def boletim() -> list:\n",
        "  notas = banco_dados()\n",
        "  notas_guardadas = notas_cadastradas()\n",
        "  notas_guardadas.append(notas)\n",
        "  return notas_guardadas\n",
        "\n",
        "def csv_cadastro():\n",
        "  import csv\n",
        "  \n",
        "  table = boletim()\n",
        "\n",
        "  arquivo = open(\"table.csv\",\"w\")\n",
        "\n",
        "  escritor = csv.writer(arquivo, delimiter=\",\", lineterminator=\"\\n\")\n",
        "\n",
        "  escritor.writerows(table)\n",
        "\n",
        "  arquivo.close()\n"
      ]
    },
    {
      "cell_type": "code",
      "source": [
        "csv_cadastro()"
      ],
      "metadata": {
        "colab": {
          "base_uri": "https://localhost:8080/"
        },
        "id": "iT_9hkB4of8o",
        "outputId": "342563ba-69a4-49ef-dbf6-40b01f9f1290"
      },
      "execution_count": null,
      "outputs": [
        {
          "name": "stdout",
          "output_type": "stream",
          "text": [
            "Nome:yuri\n",
            "Nota 01:10\n",
            "Nota 02:7\n",
            "Nota 03:8\n",
            "Deseja cadastrar mais um aluno? [S/N]n\n"
          ]
        }
      ]
    },
    {
      "cell_type": "code",
      "source": [
        "!cat table.csv"
      ],
      "metadata": {
        "colab": {
          "base_uri": "https://localhost:8080/"
        },
        "id": "pQd7OX0spI7V",
        "outputId": "d1fe829f-db42-4875-8917-fc6248978f18"
      },
      "execution_count": null,
      "outputs": [
        {
          "output_type": "stream",
          "name": "stdout",
          "text": [
            "Aluno,Nota 01,Nota 02,Nota 03,Média\n",
            "germana,10.0,7.0,8.0,8.33\n",
            "anthony,10.0,7.0,8.0,8.33\n",
            "cristina,10.0,7.0,8.0,8.33\n",
            "alexandre,10.0,7.0,8.0,8.33\n",
            "ivisson,10.0,7.0,8.0,8.33\n",
            "\"['yuri', 10.0, 7.0, 8.0, 8.33]\"\n"
          ]
        }
      ]
    },
    {
      "cell_type": "code",
      "source": [],
      "metadata": {
        "id": "GD7AGMSmuK9l"
      },
      "execution_count": null,
      "outputs": []
    }
  ]
}