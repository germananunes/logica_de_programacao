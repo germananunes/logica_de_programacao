{
  "nbformat": 4,
  "nbformat_minor": 0,
  "metadata": {
    "colab": {
      "provenance": [],
      "authorship_tag": "ABX9TyMsh23jUjPWNFrsugU1nh2p",
      "include_colab_link": true
    },
    "kernelspec": {
      "name": "python3",
      "display_name": "Python 3"
    },
    "language_info": {
      "name": "python"
    }
  },
  "cells": [
    {
      "cell_type": "markdown",
      "metadata": {
        "id": "view-in-github",
        "colab_type": "text"
      },
      "source": [
        "<a href=\"https://colab.research.google.com/github/germananunes/logica_de_programacao/blob/main/estudo_individualizado_16_10_2022.ipynb\" target=\"_parent\"><img src=\"https://colab.research.google.com/assets/colab-badge.svg\" alt=\"Open In Colab\"/></a>"
      ]
    },
    {
      "cell_type": "code",
      "execution_count": null,
      "metadata": {
        "colab": {
          "base_uri": "https://localhost:8080/"
        },
        "id": "FzdHT9kL5vtq",
        "outputId": "4fbfb919-5c8a-41c9-8e61-316d6dea5fa0"
      },
      "outputs": [
        {
          "output_type": "stream",
          "name": "stdout",
          "text": [
            "Pedro 25\n"
          ]
        }
      ],
      "source": [
        "pessoas = [['Pedro', 25], ['Maria', 19], ['João', 32]]\n",
        "nome, idade = pessoas [0]\n",
        "print(nome,idade)"
      ]
    },
    {
      "cell_type": "code",
      "source": [
        "teste = list()\n",
        "teste.append('Gustavo')\n",
        "teste.append(40)\n",
        "\n",
        "galera = list()\n",
        "galera.append(teste[:])\n",
        "teste[0] = 'Maria'\n",
        "teste[1] = 22\n",
        "galera.append(teste[:]) #não vai manter o valor original, apenas será substituído. tem que fazer uma cópia [:]\n",
        "print(galera)"
      ],
      "metadata": {
        "colab": {
          "base_uri": "https://localhost:8080/"
        },
        "id": "5A8BuYyT8YHD",
        "outputId": "696e0445-170a-48f4-bf8b-2cb03d149994"
      },
      "execution_count": null,
      "outputs": [
        {
          "output_type": "stream",
          "name": "stdout",
          "text": [
            "[['Gustavo', 40], ['Maria', 22]]\n"
          ]
        }
      ]
    },
    {
      "cell_type": "code",
      "source": [
        "temp = []\n",
        "cadastro = []\n",
        "maior = menor = 0\n",
        "while True: #também não entendi mto bem esse while true\n",
        "  temp.append(str(input(\"Nome:\")))\n",
        "  temp.append(float(input(\"Peso:\")))\n",
        "  if len(cadastro) == 0: #como ele coloca nesse momento do codigo onde o temp ainda tem dado, ele só usa pra atribuir valor as variáveis e logo depois o temp será zerado\n",
        "    maior = menor = temp[1]\n",
        "  else:\n",
        "    if temp [1] > maior:\n",
        "      maior = temp [1]\n",
        "    if temp[1] < menor:  \n",
        "      menor = temp[1]\n",
        "  cadastro.append(temp[:])\n",
        "  temp.clear() #limpou o temp para n ficar repetindo os cadastros antigos\n",
        "  resp = str(input(\"Quer continuar [S/N]:\"))\n",
        "\n",
        "  if resp in 'Nn':\n",
        "    break\n",
        "\n",
        "print(f'Ao todo foram inseridos {len(cadastro)} cadastros.')\n",
        "print(f'O maior peso foi {maior} kgs. Peso de ', end = '')\n",
        "for p in cadastro:\n",
        "  if p[1] == maior:\n",
        "    print(f'[{p[0]}]', end = '') #formatou o print para pegar o print de baixo com o nome\n",
        "print() #não entendi o pq desse print kk\n",
        "print(f'O menor peso foi {menor} kgs. Peso de ', end = '')\n",
        "for p in cadastro:\n",
        "  if p[1] == menor:\n",
        "    print(f'[{p[0]}]', end = '')\n",
        "print()"
      ],
      "metadata": {
        "colab": {
          "base_uri": "https://localhost:8080/"
        },
        "id": "Y6PuBb5e9Q9A",
        "outputId": "34da9b33-6fc1-4859-ae3d-94c8cedbeb8d"
      },
      "execution_count": null,
      "outputs": [
        {
          "output_type": "stream",
          "name": "stdout",
          "text": [
            "Nome:germana\n",
            "Peso:62\n",
            "Quer continuar [S/N]:s\n",
            "Nome:gustavo\n",
            "Peso:85\n",
            "Quer continuar [S/N]:s\n",
            "Nome:josé\n",
            "Peso:95\n",
            "Quer continuar [S/N]:s\n",
            "Nome:ana\n",
            "Peso:54\n",
            "Quer continuar [S/N]:n\n",
            "Ao todo foram inseridos 4 cadastros.,\n",
            "O maior peso foi 95.0 kgs. Peso de [josé]\n",
            "O menor peso foi 54.0 kgs. Peso de [ana]\n"
          ]
        }
      ]
    },
    {
      "cell_type": "code",
      "source": [
        "temp = []\n",
        "final = [[],[]]\n",
        "\n",
        "for i in range (1,8):\n",
        "  temp.append(int(input(f\"Digite o {i}º número:\")))\n",
        "for j in temp:\n",
        "    if j % 2 == 0:\n",
        "      final[0].append(j)\n",
        "    else:\n",
        "      final[1].append(j)\n",
        "final[0].sort\n",
        "final[1].sort\n",
        "print(f'Os número pares digitados foram {final[0]} e os ímpares foram {final[1]}')\n",
        "\n",
        "\n"
      ],
      "metadata": {
        "colab": {
          "base_uri": "https://localhost:8080/"
        },
        "id": "4B1M0A91BrW1",
        "outputId": "1313f80c-24bd-4335-ef3b-d8d4233ed9c9"
      },
      "execution_count": null,
      "outputs": [
        {
          "output_type": "stream",
          "name": "stdout",
          "text": [
            "Digite o 1º número:2\n",
            "Digite o 2º número:4\n",
            "Digite o 3º número:5\n",
            "Digite o 4º número:13\n",
            "Digite o 5º número:14\n",
            "Digite o 6º número:15\n",
            "Digite o 7º número:24\n",
            "Os número pares digitados foram [2, 4, 14, 24] e os ímpares foram [5, 13, 15]\n"
          ]
        }
      ]
    },
    {
      "cell_type": "code",
      "source": [
        "matriz = [[0,0,0], [0,0,0], [0,0,0]]\n",
        "soma_par = scol = 0\n",
        "for l in range(0,3):\n",
        "  for c in range(0,3):\n",
        "    matriz [l][c] = int(input(f'Digite um valor para [{l}, {c}]'))\n",
        "\n",
        "print('='*30)\n",
        "\n",
        "for l in range (0,3):\n",
        "  for c in range (0,3):\n",
        "    print(f'[{matriz[l][c]:^5}]', end = '')\n",
        "  print()\n",
        "print('='*30)\n",
        "\n",
        "print(\"A soma de todos os valores pares digitados\")\n",
        "for l in range (0,3):\n",
        "  for c in range (0,3):\n",
        "    if matriz[l][c] % 2 == 0: #interessante como acessar o item de uma lista dentro de outra lista\n",
        "      soma_par += matriz[l][c]\n",
        "print(soma_par)\n",
        "\n",
        "print('='*30)\n",
        "\n",
        "print(\"A soma dos valores da terceira coluna\")\n",
        "\n",
        "for l in range (0,3):\n",
        "  scol += matriz[l][2]\n",
        "#soma = matriz[0][2] + matriz[1][2] + matriz[2][2]\n",
        "print(scol)\n",
        "\n",
        "print('='*30)\n",
        "\n",
        "print(\"O maior valor da segunda linha\")\n",
        "\n",
        "print(max(matriz[1]))\n"
      ],
      "metadata": {
        "colab": {
          "base_uri": "https://localhost:8080/"
        },
        "id": "T5un7Gp9M59x",
        "outputId": "25d2ba2a-96de-4b8e-c994-2f5edee3279d"
      },
      "execution_count": null,
      "outputs": [
        {
          "output_type": "stream",
          "name": "stdout",
          "text": [
            "Digite um valor para [0, 0]1\n",
            "Digite um valor para [0, 1]2\n",
            "Digite um valor para [0, 2]3\n",
            "Digite um valor para [1, 0]4\n",
            "Digite um valor para [1, 1]5\n",
            "Digite um valor para [1, 2]6\n",
            "Digite um valor para [2, 0]7\n",
            "Digite um valor para [2, 1]8\n",
            "Digite um valor para [2, 2]9\n",
            "==============================\n",
            "[  1  ][  2  ][  3  ]\n",
            "[  4  ][  5  ][  6  ]\n",
            "[  7  ][  8  ][  9  ]\n",
            "==============================\n",
            "A soma de todos os valores pares digitados\n",
            "20\n",
            "==============================\n",
            "A soma dos valores da terceira coluna\n",
            "18\n",
            "==============================\n",
            "O maior valor da segunda linha\n",
            "6\n"
          ]
        }
      ]
    },
    {
      "cell_type": "code",
      "source": [
        "matriz = [[1,2,3], [4,5,6], [7,8,9]]\n",
        "soma_par = 0\n",
        "for l in matriz:\n",
        "  for c in matriz:\n",
        "    if c % 2 == 0:\n",
        "      print(c)\n",
        "      soma_par += c\n",
        "print(soma_par)"
      ],
      "metadata": {
        "colab": {
          "base_uri": "https://localhost:8080/",
          "height": 235
        },
        "id": "dgvopwYvUD2f",
        "outputId": "fe26f51d-fb09-4c92-b635-42f5c63c80c6"
      },
      "execution_count": null,
      "outputs": [
        {
          "output_type": "error",
          "ename": "TypeError",
          "evalue": "ignored",
          "traceback": [
            "\u001b[0;31m---------------------------------------------------------------------------\u001b[0m",
            "\u001b[0;31mTypeError\u001b[0m                                 Traceback (most recent call last)",
            "\u001b[0;32m<ipython-input-5-a385847de22d>\u001b[0m in \u001b[0;36m<module>\u001b[0;34m\u001b[0m\n\u001b[1;32m      3\u001b[0m \u001b[0;32mfor\u001b[0m \u001b[0ml\u001b[0m \u001b[0;32min\u001b[0m \u001b[0mmatriz\u001b[0m\u001b[0;34m:\u001b[0m\u001b[0;34m\u001b[0m\u001b[0;34m\u001b[0m\u001b[0m\n\u001b[1;32m      4\u001b[0m   \u001b[0;32mfor\u001b[0m \u001b[0mc\u001b[0m \u001b[0;32min\u001b[0m \u001b[0mmatriz\u001b[0m\u001b[0;34m:\u001b[0m\u001b[0;34m\u001b[0m\u001b[0;34m\u001b[0m\u001b[0m\n\u001b[0;32m----> 5\u001b[0;31m     \u001b[0;32mif\u001b[0m \u001b[0mc\u001b[0m \u001b[0;34m%\u001b[0m \u001b[0;36m2\u001b[0m \u001b[0;34m==\u001b[0m \u001b[0;36m0\u001b[0m\u001b[0;34m:\u001b[0m\u001b[0;34m\u001b[0m\u001b[0;34m\u001b[0m\u001b[0m\n\u001b[0m\u001b[1;32m      6\u001b[0m       \u001b[0mprint\u001b[0m\u001b[0;34m(\u001b[0m\u001b[0mc\u001b[0m\u001b[0;34m)\u001b[0m\u001b[0;34m\u001b[0m\u001b[0;34m\u001b[0m\u001b[0m\n\u001b[1;32m      7\u001b[0m       \u001b[0msoma_par\u001b[0m \u001b[0;34m+=\u001b[0m \u001b[0mc\u001b[0m\u001b[0;34m\u001b[0m\u001b[0;34m\u001b[0m\u001b[0m\n",
            "\u001b[0;31mTypeError\u001b[0m: unsupported operand type(s) for %: 'list' and 'int'"
          ]
        }
      ]
    },
    {
      "cell_type": "code",
      "source": [
        "from random import randint\n",
        "nome = 'JOGA NA MEGASENA'\n",
        "lista = []\n",
        "lista_temp = []\n",
        "print('-'*30)\n",
        "print(f'{nome:^30}')\n",
        "print('-'*30)\n",
        "\n",
        "jogos = int(input(\"Quantos jogos você quer?\"))\n",
        "for i in range (0,jogos):\n",
        "  for j in range (0,6):\n",
        "    n = random.randint(1, 60)\n",
        "    if n not in lista_temp:\n",
        "      lista_temp.append(n)\n",
        "      lista_temp.sort()\n",
        "  lista.append(lista_temp[:])\n",
        "  lista_temp.clear()\n",
        "for i, l in enumerate(lista): #nem lembrava disso!\n",
        "  print(f'Jogo {i+1}:{l}') \n",
        "\n",
        "\n",
        "\n"
      ],
      "metadata": {
        "colab": {
          "base_uri": "https://localhost:8080/"
        },
        "id": "ho6TzjNRDxwk",
        "outputId": "272e82b9-8c81-4435-a03a-f5200b97106f"
      },
      "execution_count": null,
      "outputs": [
        {
          "output_type": "stream",
          "name": "stdout",
          "text": [
            "------------------------------\n",
            "       JOGA NA MEGASENA       \n",
            "------------------------------\n",
            "Quantos jogos você quer?4\n",
            "Jogo 1:[1, 29, 40, 41, 44, 46]\n",
            "Jogo 2:[18, 26, 40, 45, 53, 60]\n",
            "Jogo 3:[4, 17, 24, 40, 46, 55]\n",
            "Jogo 4:[8, 11, 18, 20, 23, 34]\n"
          ]
        }
      ]
    },
    {
      "cell_type": "markdown",
      "source": [
        "Crie um programa que leio **nome** e **duas notas** de vários alunos e guarde tudo em uma lista composta. No final, mostre um boletim contendo a **média** de cada um e permita que **o usuário possa mostrar as notas de cada aluno individualmente**."
      ],
      "metadata": {
        "id": "Tvd1boawT0FX"
      }
    },
    {
      "cell_type": "code",
      "source": [
        "from tabulate import tabulate\n",
        "def cadastro_notas():\n",
        "  lista_aluno = [input('Nome:'),float(input('Nota 01:')),\n",
        "                 float(input('Nota 02:')),float(input('Nota 03:'))]\n",
        "  media = (lista_aluno[1]+lista_aluno[2]+lista_aluno[3])/3\n",
        "  lista_aluno.append(media)\n",
        "  return lista_aluno\n",
        "\n",
        "def banco_dados(): \n",
        "  cadastro = []\n",
        "  lista_temp = cadastro_notas()\n",
        "  cadastro.append(lista_temp)\n",
        "  r = input(\"Deseja cadastrar mais um aluno? [S/N]\")\n",
        "  while r in 'Ss':\n",
        "    lista_temp = cadastro_notas()\n",
        "    cadastro.append(lista_temp)\n",
        "    r = input(\"Deseja cadastrar mais um aluno? [S/N]\")\n",
        "    if r in 'Nn':\n",
        "      break\n",
        "  return cadastro\n",
        "def boletim():\n",
        "  boletim = ['Aluno', 'Nota 01', 'Nota 02', 'Nota 03','Média']\n",
        "  notas = banco_dados()\n",
        "  notas.insert(0,boletim)\n",
        "  print(tabulate(notas, headers='firstrow', tablefmt='fancy_grid')) \n",
        "\n",
        "  \n"
      ],
      "metadata": {
        "id": "GdCQPjE_Kgwq"
      },
      "execution_count": null,
      "outputs": []
    },
    {
      "cell_type": "code",
      "source": [
        "from google.colab import drive\n",
        "drive.mount('/content/drive')"
      ],
      "metadata": {
        "id": "8GdE-liCXx_4"
      },
      "execution_count": null,
      "outputs": []
    },
    {
      "cell_type": "code",
      "source": [
        "boletim()\n"
      ],
      "metadata": {
        "colab": {
          "base_uri": "https://localhost:8080/"
        },
        "id": "x3Hg4urJVk34",
        "outputId": "9f51a2ba-a684-4c7c-f1a7-2c1e8878979e"
      },
      "execution_count": null,
      "outputs": [
        {
          "output_type": "stream",
          "name": "stdout",
          "text": [
            "Nome:germana\n",
            "Nota 01:10\n",
            "Nota 02:9\n",
            "Deseja cadastrar mais um aluno? [S/N]s\n",
            "Nome:maria\n",
            "Nota 01:5\n",
            "Nota 02:6\n",
            "Deseja cadastrar mais um aluno? [S/N]s\n",
            "Nome:josé\n",
            "Nota 01:8\n",
            "Nota 02:4\n",
            "Deseja cadastrar mais um aluno? [S/N]s\n",
            "Nome:davi\n",
            "Nota 01:10\n",
            "Nota 02:10\n",
            "Deseja cadastrar mais um aluno? [S/N]n\n",
            "╒═════════╤═══════════╤═══════════╤═════════╕\n",
            "│ Aluno   │   Nota 01 │   Nota 02 │   Média │\n",
            "╞═════════╪═══════════╪═══════════╪═════════╡\n",
            "│ germana │        10 │         9 │     9.5 │\n",
            "├─────────┼───────────┼───────────┼─────────┤\n",
            "│ maria   │         5 │         6 │     5.5 │\n",
            "├─────────┼───────────┼───────────┼─────────┤\n",
            "│ josé    │         8 │         4 │     6   │\n",
            "├─────────┼───────────┼───────────┼─────────┤\n",
            "│ davi    │        10 │        10 │    10   │\n",
            "╘═════════╧═══════════╧═══════════╧═════════╛\n"
          ]
        }
      ]
    },
    {
      "cell_type": "code",
      "source": [],
      "metadata": {
        "id": "18J0HIjfWEYL"
      },
      "execution_count": null,
      "outputs": []
    }
  ]
}