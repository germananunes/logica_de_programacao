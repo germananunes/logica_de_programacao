{
  "nbformat": 4,
  "nbformat_minor": 0,
  "metadata": {
    "colab": {
      "provenance": [],
      "authorship_tag": "ABX9TyNciwoBlksas77Na7wIHcU7",
      "include_colab_link": true
    },
    "kernelspec": {
      "name": "python3",
      "display_name": "Python 3"
    },
    "language_info": {
      "name": "python"
    }
  },
  "cells": [
    {
      "cell_type": "markdown",
      "metadata": {
        "id": "view-in-github",
        "colab_type": "text"
      },
      "source": [
        "<a href=\"https://colab.research.google.com/github/germananunes/logica_de_programacao/blob/main/estduo_individualizado_18_09.ipynb\" target=\"_parent\"><img src=\"https://colab.research.google.com/assets/colab-badge.svg\" alt=\"Open In Colab\"/></a>"
      ]
    },
    {
      "cell_type": "code",
      "execution_count": null,
      "metadata": {
        "id": "weFchPdNmG_G"
      },
      "outputs": [],
      "source": []
    },
    {
      "cell_type": "markdown",
      "source": [
        "##OPERADORES ARITIMÉTICOS - ORDEM DE PRECEDÊNCIA\n",
        "\n",
        "* 1º - ()\n",
        "* 2º - **\n",
        "* 3º - * / // %\n",
        "* 4º - + - "
      ],
      "metadata": {
        "id": "k0f2mrbumLS0"
      }
    },
    {
      "cell_type": "code",
      "source": [
        "5 + 3 * 2\n"
      ],
      "metadata": {
        "colab": {
          "base_uri": "https://localhost:8080/"
        },
        "id": "AjrfTKeemSt3",
        "outputId": "7fef45c5-59e5-4fd1-83a3-df1a331862e6"
      },
      "execution_count": null,
      "outputs": [
        {
          "output_type": "execute_result",
          "data": {
            "text/plain": [
              "11"
            ]
          },
          "metadata": {},
          "execution_count": 1
        }
      ]
    },
    {
      "cell_type": "code",
      "source": [
        "3*5+4**2"
      ],
      "metadata": {
        "colab": {
          "base_uri": "https://localhost:8080/"
        },
        "id": "iZBPYj9mm4RL",
        "outputId": "1a9ff8d6-46df-493c-cba0-3f2daefe3ddc"
      },
      "execution_count": null,
      "outputs": [
        {
          "output_type": "execute_result",
          "data": {
            "text/plain": [
              "31"
            ]
          },
          "metadata": {},
          "execution_count": 2
        }
      ]
    },
    {
      "cell_type": "code",
      "source": [
        "3*(5+4)**2"
      ],
      "metadata": {
        "colab": {
          "base_uri": "https://localhost:8080/"
        },
        "id": "cK6qRVL0m-tW",
        "outputId": "15d7b95a-ae6b-478d-98aa-04ac4c82aadb"
      },
      "execution_count": null,
      "outputs": [
        {
          "output_type": "execute_result",
          "data": {
            "text/plain": [
              "243"
            ]
          },
          "metadata": {},
          "execution_count": 3
        }
      ]
    },
    {
      "cell_type": "code",
      "source": [
        "356**522\n"
      ],
      "metadata": {
        "colab": {
          "base_uri": "https://localhost:8080/"
        },
        "id": "HKYEEeuHnOCh",
        "outputId": "4993f006-b30f-49e6-cff2-685d257337dc"
      },
      "execution_count": null,
      "outputs": [
        {
          "output_type": "execute_result",
          "data": {
            "text/plain": [
              "719281585292469709351383367279589878611933789157564147000433300789151797908651760501835214758833382669689387515084336861855291222062035733360219361780562343052904496631867391172075359666148473715836612432369966297049776285450533232716953213128693348015055150920937833122601177580906672990311973238822158165566026505996274570032632917312840305917107242921520788930477298767008485514606804498976042940710184332710282636870988989843035945390069345100797221217595808526171255338592850427477458544403629720055368449475604119077674547525218642663130145626055281631685895660706396241150113249494302927745275435148055764847810137371265208317619079860086956366215364887162089100265578249230640138242741817434791096056129380451608563592013739243477896600011604269064881287562415979998177949947706220430543241298454113770754394399748557256043180536301988874807792024809498900250912360083369268825328445596687559689857916406192310516753651751877330009039252101113701375844011495798372188160769981303119083501640017241816417304200555171498574395447202467647068961978355523059550474137809227450338259583694659400922889407910708963752235397080444292836435287837914294540521581102544614326491666786340172787587371174001483773725740788123183219198765388455987265426046482492808590246511441816729353694445845650756404853772321057616156367548198158336"
            ]
          },
          "metadata": {},
          "execution_count": 4
        }
      ]
    },
    {
      "cell_type": "code",
      "source": [
        "18%2"
      ],
      "metadata": {
        "colab": {
          "base_uri": "https://localhost:8080/"
        },
        "id": "O6G1DIqloB0n",
        "outputId": "f5ec38a3-b634-476f-d71e-d88d13ab8a57"
      },
      "execution_count": null,
      "outputs": [
        {
          "output_type": "execute_result",
          "data": {
            "text/plain": [
              "0"
            ]
          },
          "metadata": {},
          "execution_count": 5
        }
      ]
    },
    {
      "cell_type": "code",
      "source": [
        "122%3"
      ],
      "metadata": {
        "colab": {
          "base_uri": "https://localhost:8080/"
        },
        "id": "b-f6DRquoErd",
        "outputId": "5889f3f1-202c-43a7-fadb-5f3cff55dce5"
      },
      "execution_count": null,
      "outputs": [
        {
          "output_type": "execute_result",
          "data": {
            "text/plain": [
              "2"
            ]
          },
          "metadata": {},
          "execution_count": 6
        }
      ]
    },
    {
      "cell_type": "code",
      "source": [
        "4**3"
      ],
      "metadata": {
        "colab": {
          "base_uri": "https://localhost:8080/"
        },
        "id": "00fMKu3KoF-s",
        "outputId": "eb0b6b12-849e-4b6b-d49c-042800d8bd4f"
      },
      "execution_count": null,
      "outputs": [
        {
          "output_type": "execute_result",
          "data": {
            "text/plain": [
              "64"
            ]
          },
          "metadata": {},
          "execution_count": 7
        }
      ]
    },
    {
      "cell_type": "code",
      "source": [
        "pow(4,3)"
      ],
      "metadata": {
        "colab": {
          "base_uri": "https://localhost:8080/"
        },
        "id": "ynCjlLmfoKBC",
        "outputId": "23c9f3a6-9021-4a02-b3b3-30d40c9743c5"
      },
      "execution_count": null,
      "outputs": [
        {
          "output_type": "execute_result",
          "data": {
            "text/plain": [
              "64"
            ]
          },
          "metadata": {},
          "execution_count": 9
        }
      ]
    },
    {
      "cell_type": "code",
      "source": [
        "#raiz quadrada\n",
        "81**(1/2) #potencia dele a 1/2"
      ],
      "metadata": {
        "colab": {
          "base_uri": "https://localhost:8080/"
        },
        "id": "5elrR8IXoMJ_",
        "outputId": "fbf6ba35-9040-494c-c849-bbd3fcc9075c"
      },
      "execution_count": null,
      "outputs": [
        {
          "output_type": "execute_result",
          "data": {
            "text/plain": [
              "9.0"
            ]
          },
          "metadata": {},
          "execution_count": 10
        }
      ]
    },
    {
      "cell_type": "code",
      "source": [
        "#raiz cubica\n",
        "127**(1/3)"
      ],
      "metadata": {
        "colab": {
          "base_uri": "https://localhost:8080/"
        },
        "id": "frPUdZwLoVN2",
        "outputId": "0b014185-64f4-4438-9d22-f43eeee44c69"
      },
      "execution_count": null,
      "outputs": [
        {
          "output_type": "execute_result",
          "data": {
            "text/plain": [
              "5.026525695313479"
            ]
          },
          "metadata": {},
          "execution_count": 11
        }
      ]
    },
    {
      "cell_type": "code",
      "source": [
        "'Oi'+'Ola'"
      ],
      "metadata": {
        "colab": {
          "base_uri": "https://localhost:8080/",
          "height": 36
        },
        "id": "HgFVNMVWoesA",
        "outputId": "6523a550-bc03-4f46-ec3e-54f27b01b8ef"
      },
      "execution_count": null,
      "outputs": [
        {
          "output_type": "execute_result",
          "data": {
            "text/plain": [
              "'OiOla'"
            ],
            "application/vnd.google.colaboratory.intrinsic+json": {
              "type": "string"
            }
          },
          "metadata": {},
          "execution_count": 13
        }
      ]
    },
    {
      "cell_type": "code",
      "source": [
        "'oi'*5"
      ],
      "metadata": {
        "colab": {
          "base_uri": "https://localhost:8080/",
          "height": 36
        },
        "id": "bx5NyTJ_ojF8",
        "outputId": "603e9ebf-eb9f-4d71-dc04-6f71d8f48a79"
      },
      "execution_count": null,
      "outputs": [
        {
          "output_type": "execute_result",
          "data": {
            "text/plain": [
              "'oioioioioi'"
            ],
            "application/vnd.google.colaboratory.intrinsic+json": {
              "type": "string"
            }
          },
          "metadata": {},
          "execution_count": 14
        }
      ]
    },
    {
      "cell_type": "code",
      "source": [
        "#formas de justificar ou definir numero de caracteres dentro de um espaço printado\n",
        "nome = input('Qual é o seu nome?:')\n",
        "print(f\"Prazer em te conhecer {nome}!\")\n",
        "print(f\"Prazer em te conhecer {nome:20}!\") #dois pontos com um numero diz quantos caracteres serão necessários\n",
        "print(f\"Prazer em te conhecer {nome:^20}!\") #circunflexo centraliza\n",
        "print(f\"Prazer em te conhecer {nome:>20}!\") #alinhado para a esquerda. O \"menor\" indica pra onde vai alinhar\n",
        "print(f\"Prazer em te conhecer {nome:<20}!\") #justificado\n",
        "print(f\"Prazer em te conhecer {nome:_^20}!\") #circunflexo centraliza. se vc colocar algum elemento antes do circunflexo ele vai colocar nas linhas"
      ],
      "metadata": {
        "colab": {
          "base_uri": "https://localhost:8080/"
        },
        "id": "jlGBxYPpooOu",
        "outputId": "94c0b865-eac2-48ea-a72f-fe4f810cc602"
      },
      "execution_count": null,
      "outputs": [
        {
          "output_type": "stream",
          "name": "stdout",
          "text": [
            "Qual é o seu nome?:germana nunes\n",
            "Prazer em te conhecer germana nunes!\n",
            "Prazer em te conhecer germana nunes       !\n",
            "Prazer em te conhecer    germana nunes    !\n",
            "Prazer em te conhecer        germana nunes!\n",
            "Prazer em te conhecer germana nunes       !\n",
            "Prazer em te conhecer ___germana nunes____!\n"
          ]
        }
      ]
    },
    {
      "cell_type": "code",
      "source": [
        "n1 = int(input(\"Digite um número:\"))\n",
        "n2 = int(input(\"Digite um número:\"))\n",
        "\n",
        "s = n1 + n2\n",
        "m = n1 * n2\n",
        "d = n1/n2\n",
        "di = n1 // n2\n",
        "e = n1 ** n2\n",
        "#dentro dos parentes do print, depois da aspa, colocar ,end=\" \" vc junta um print ao próximo\n",
        "print(f\"A soma dos números é {s}; A multiplicação é {m}; A divisão é {d}; A divisão inteira é {di} e a exponenciação de um pelo outro é {e}.\", end=' ')\n",
        "print(\"Legal né?\")\n",
        " #quando coloco o dois pontos e o .numero eu digo quantas casas decimais eu quero que apareça!\n",
        " #quando vc coloca a contrabarra n ele quebra o print e da \"enter\"\n",
        "print(f\"A soma dos números é {s}; \\n A multiplicação é {m}; \\n A divisão é {d:.3}; \\n A divisão inteira é {di} e a \\n exponenciação de um pelo outro é {e}.\")"
      ],
      "metadata": {
        "colab": {
          "base_uri": "https://localhost:8080/"
        },
        "id": "xrsHD9gNpmMa",
        "outputId": "50f75fb2-b0a3-43ac-ed03-5c37271dc169"
      },
      "execution_count": null,
      "outputs": [
        {
          "output_type": "stream",
          "name": "stdout",
          "text": [
            "Digite um número:5\n",
            "Digite um número:3\n",
            "A soma dos números é 8; A multiplicação é 15; A divisão é 1.6666666666666667; A divisão inteira é 1 e a exponenciação de um pelo outro é 125. Legal né?\n",
            "A soma dos números é 8; \n",
            " A multiplicação é 15; \n",
            " A divisão é 1.67; \n",
            " A divisão inteira é 1 e a \n",
            " exponenciação de um pelo outro é 125.\n"
          ]
        }
      ]
    },
    {
      "cell_type": "code",
      "source": [
        "n = int(input(\"Digite um número inteiro:\"))\n",
        "ant = n-1\n",
        "suc = n+1\n",
        "print(f\"O antecessor do número digitado é {ant} e o sucessor é {suc}.\")"
      ],
      "metadata": {
        "colab": {
          "base_uri": "https://localhost:8080/"
        },
        "id": "ekD0eRVrr6rL",
        "outputId": "be5b7247-22d1-4ebf-dbb4-9e198382d9c9"
      },
      "execution_count": null,
      "outputs": [
        {
          "output_type": "stream",
          "name": "stdout",
          "text": [
            "Digite um número inteiro:3\n",
            "O antecessor do número digitado é 2 e o sucessor é 4.\n"
          ]
        }
      ]
    },
    {
      "cell_type": "code",
      "source": [
        "num = int(input(\"Digite uum número inteiro:\"))\n",
        "\n",
        "dob = num*2\n",
        "trip = num*3\n",
        "raiz = num**(1/2)\n",
        "\n",
        "print(f\"O dobro do número dgitado é {dob}. O triplo é {trip} e a raiz quadrada é {raiz}.\")"
      ],
      "metadata": {
        "colab": {
          "base_uri": "https://localhost:8080/"
        },
        "id": "IkdG9XXQt8iR",
        "outputId": "5e2ac77d-b350-4722-c486-14d130572fc6"
      },
      "execution_count": null,
      "outputs": [
        {
          "output_type": "stream",
          "name": "stdout",
          "text": [
            "Digite uum número inteiro:4\n",
            "O dobro do número dgitado é 8. O triplo é 12 e a raiz quadrada é 2.0.\n"
          ]
        }
      ]
    },
    {
      "cell_type": "code",
      "source": [
        "n = int(input(\"digite um número inteiro:\"))\n",
        "c = 0\n",
        "while c <= 9:\n",
        "  c+=1\n",
        "  print(c*n)\n"
      ],
      "metadata": {
        "colab": {
          "base_uri": "https://localhost:8080/"
        },
        "id": "tjGN_7lruVWK",
        "outputId": "7f95b050-e662-4ad8-f2ac-266322c87548"
      },
      "execution_count": null,
      "outputs": [
        {
          "output_type": "stream",
          "name": "stdout",
          "text": [
            "digite um número inteiro:8\n",
            "8\n",
            "16\n",
            "24\n",
            "32\n",
            "40\n",
            "48\n",
            "56\n",
            "64\n",
            "72\n",
            "80\n"
          ]
        }
      ]
    },
    {
      "cell_type": "code",
      "source": [
        "din = float(input(\"Quanto em dolar você tem? Digite quantos reais você tem hoje:\"))\n",
        "dolar = din*3.27\n",
        "print(f\"Você tem o equivalente a U${dolar}\")"
      ],
      "metadata": {
        "colab": {
          "base_uri": "https://localhost:8080/"
        },
        "id": "OkD8PVOFu--I",
        "outputId": "525fbe19-2a82-45b7-a4dd-afb364b5eeb7"
      },
      "execution_count": null,
      "outputs": [
        {
          "output_type": "stream",
          "name": "stdout",
          "text": [
            "Quanto em dolar você tem? Digite quantos reais você tem hoje:43.25\n",
            "Você tem o equivalente a U$141.4275\n"
          ]
        }
      ]
    },
    {
      "cell_type": "code",
      "source": [
        "alt = float(input(\"Qual a altura da parede?\"))\n",
        "lar = float(input(\"Qual a largura da parede?\"))\n",
        "\n",
        "area = alt*lar\n",
        "tin = area/2\n",
        "\n",
        "print(f\"A quantidade de litros de tinta para pintar essa parede é de {tin} L\")"
      ],
      "metadata": {
        "colab": {
          "base_uri": "https://localhost:8080/"
        },
        "id": "_Wt4q9Irv8RS",
        "outputId": "ed440d8c-ebc4-4c8e-bc61-bbe0a69c2fc6"
      },
      "execution_count": null,
      "outputs": [
        {
          "output_type": "stream",
          "name": "stdout",
          "text": [
            "Qual a altura da parede?3\n",
            "Qual a largura da parede?5\n",
            "A quantidade de litros de tinta para pintar essa parede é de 7.5 L\n"
          ]
        }
      ]
    },
    {
      "cell_type": "code",
      "source": [
        "pre = float(input(\"Digite o preço do produto:\"))\n",
        "des = pre - pre*0.05\n",
        "print(f'O produto com 5% de desconto fica R${des:.3}')"
      ],
      "metadata": {
        "colab": {
          "base_uri": "https://localhost:8080/"
        },
        "id": "LTK2o36Iwnel",
        "outputId": "a5a579d5-f8b8-4fa2-af89-f36f57715c6d"
      },
      "execution_count": null,
      "outputs": [
        {
          "output_type": "stream",
          "name": "stdout",
          "text": [
            "Digite o preço do produto:45.20\n",
            "O produto com 5% de desconto fica R$42.9\n"
          ]
        }
      ]
    },
    {
      "cell_type": "code",
      "source": [
        "sal = float(input(\"Qual seu salário atual?:\"))\n",
        "aum = sal + sal*0.15\n",
        "print(f\"Seu salário com aumento é de R${aum}\")"
      ],
      "metadata": {
        "colab": {
          "base_uri": "https://localhost:8080/"
        },
        "id": "i6IWqwmExGdB",
        "outputId": "637cd4aa-a2c6-464a-bb03-23293fbd5ff8"
      },
      "execution_count": null,
      "outputs": [
        {
          "output_type": "stream",
          "name": "stdout",
          "text": [
            "Qual seu salário atual?:2500\n",
            "Seu salário com aumento é de R$2875.0\n"
          ]
        }
      ]
    },
    {
      "cell_type": "code",
      "source": [
        "from random import randint\n",
        "num = randint(0,5)\n",
        "adv = int(input(\"Escolha um número entre 0 e 5:\"))\n",
        "if adv == num:\n",
        "  print(f\"Você acertou. O número sorteado foi {num}\")\n",
        "else:\n",
        "  print(f\"Você errou. :/ O número sorteado foi {num}\")"
      ],
      "metadata": {
        "colab": {
          "base_uri": "https://localhost:8080/"
        },
        "id": "sm6dCWyTxlNd",
        "outputId": "e3e67c5e-2b03-4658-8f0d-421a393e5503"
      },
      "execution_count": null,
      "outputs": [
        {
          "output_type": "stream",
          "name": "stdout",
          "text": [
            "Escolha um número entre 0 e 5:2\n",
            "Você errou. :/ O número sorteado foi 0\n"
          ]
        }
      ]
    },
    {
      "cell_type": "code",
      "source": [
        "vel = int(input(\"Qual a velocidade atual?\"))\n",
        "multa = 7\n",
        "if vel > 80:\n",
        "   dif = vel - 80\n",
        "   pag = multa*dif\n",
        "   print(f\"Você ultrapassou a velocidade permitida em {dif} km/h. Sua multa deverá ser R${pag}\")\n",
        "else:\n",
        "  print(\"Velocidade dentro dos limites aceitáveis\")"
      ],
      "metadata": {
        "colab": {
          "base_uri": "https://localhost:8080/"
        },
        "id": "zyMnv391BtAs",
        "outputId": "119cad3a-e468-4e71-b319-003714c85f93"
      },
      "execution_count": null,
      "outputs": [
        {
          "output_type": "stream",
          "name": "stdout",
          "text": [
            "Qual a velocidade atual?95\n",
            "Você ultrapassou a velocidade permitida em 15 km/h. Sua multa deverá ser R$105\n"
          ]
        }
      ]
    },
    {
      "cell_type": "code",
      "source": [
        "num = int(input(\"Digite um número:\"))\n",
        "if num%2 == 0:\n",
        "  print(\"Ele é par\")\n",
        "else:\n",
        "  print(\"Ele é ímpar\")"
      ],
      "metadata": {
        "colab": {
          "base_uri": "https://localhost:8080/"
        },
        "id": "e3EvlbgzDXWy",
        "outputId": "9cefd846-4a5c-4b40-9977-bf815c1f670d"
      },
      "execution_count": null,
      "outputs": [
        {
          "output_type": "stream",
          "name": "stdout",
          "text": [
            "Digite um número:789\n",
            "Ele é ímpar\n"
          ]
        }
      ]
    },
    {
      "cell_type": "code",
      "source": [
        "dist = float(input(\"Qual a distância da viagem em km?\"))\n",
        "if dist <= 200:\n",
        "  valor = dist * 0.50\n",
        "  print(f\"O valor da viagem é de R${valor}\")\n",
        "else: \n",
        "  valor = dist * 0.45\n",
        "  print(f\"O valor da viagem é de R${valor}\")"
      ],
      "metadata": {
        "colab": {
          "base_uri": "https://localhost:8080/"
        },
        "id": "hoKNyfVzD4eW",
        "outputId": "8ebe0bcc-f4e4-4731-b8b6-996898bc2705"
      },
      "execution_count": null,
      "outputs": [
        {
          "output_type": "stream",
          "name": "stdout",
          "text": [
            "Qual a distância da viagem em km?564\n",
            "O valor da viagem é de R$253.8\n"
          ]
        }
      ]
    },
    {
      "cell_type": "code",
      "source": [
        "from calendar import isleap\n",
        "ano = int(input(\"Digite um ano:\"))\n",
        "\n",
        "if isleap(ano):\n",
        "  print('Ele é bissexto')\n",
        "else: \n",
        "  print('Ele não é bissexto')"
      ],
      "metadata": {
        "colab": {
          "base_uri": "https://localhost:8080/"
        },
        "id": "yo85enqfEp_m",
        "outputId": "179e2120-b27f-4d35-9787-bd072f01dc03"
      },
      "execution_count": null,
      "outputs": [
        {
          "output_type": "stream",
          "name": "stdout",
          "text": [
            "Digite um ano:2004\n",
            "Ele é bissexto\n"
          ]
        }
      ]
    },
    {
      "cell_type": "code",
      "source": [],
      "metadata": {
        "id": "rphFzOEVFmE9"
      },
      "execution_count": null,
      "outputs": []
    },
    {
      "cell_type": "markdown",
      "source": [
        "\"Dados três segmentos de reta distintos, se a soma das medidas de dois deles é sempre maior que a medida do terceiro, então, eles podem formar um triângulo. Por exemplo, dados os segmentos AB = 16 cm, CD = 20 cm e EF = 30 cm, é possível usá-los para construir um triângulo, pois as somas abaixo são verdadeiras:\n",
        "\n",
        "16 + 20 = 36 > 30\n",
        "\n",
        "16 + 30 = 46 > 20\n",
        "\n",
        "30 + 20 = 50 > 16\"\n",
        "\n",
        "Veja mais sobre \"O que é a condição de existência de um triângulo?\" em: https://brasilescola.uol.com.br/o-que-e/matematica/o-que-e-a-condicao-existencia-um-triangulo.htm"
      ],
      "metadata": {
        "id": "qwGuKpYUGi3q"
      }
    },
    {
      "cell_type": "code",
      "source": [
        "ab = int(input(\"Digite o valor de r1:\"))\n",
        "cd = int(input(\"Digite o valor de r2:\"))\n",
        "ef = int(input(\"Digite o valor de r3:\"))\n",
        "\n",
        "if ab + cd > ef and ab + ef > cd and cd + ef > ab:\n",
        "  print(\"Pode formar triângulo\")\n",
        "else: \n",
        "  print(\"Não pode formar triângulo\")"
      ],
      "metadata": {
        "colab": {
          "base_uri": "https://localhost:8080/"
        },
        "id": "_ZAr__OsGj76",
        "outputId": "3c610a4f-17e5-48fc-865d-759f8bb0548d"
      },
      "execution_count": null,
      "outputs": [
        {
          "output_type": "stream",
          "name": "stdout",
          "text": [
            "Digite o valor de r1:25\n",
            "Digite o valor de r2:15\n",
            "Digite o valor de r3:5\n",
            "Não pode formar triângulo\n"
          ]
        }
      ]
    },
    {
      "cell_type": "code",
      "source": [
        "a = int(input(\"digite um valor:\"))\n",
        "b = int(input(\"digite um valor:\"))\n",
        "c = int(input(\"digite um valor:\"))\n",
        "\n",
        "#ele atribiu um valor a variavel menor ou maior e ai quando ele fez as comparações ele foi fazendo novas atribuições\n",
        "menor = a \n",
        "if b<a and b<c:\n",
        "  menor = b\n",
        "if c<a and c<b:\n",
        "  menor = c\n",
        "maior = a\n",
        "if b>a and b>c:\n",
        "  maior = b\n",
        "if c>a and c>b:\n",
        "  maior = c\n",
        "print(f\"O menor valor foi {menor} e o maior valor foi {maior}\")"
      ],
      "metadata": {
        "colab": {
          "base_uri": "https://localhost:8080/"
        },
        "id": "94klKjaZHeWo",
        "outputId": "8ec9c1a4-9e7a-4bc5-a41b-351d1882dd4f"
      },
      "execution_count": null,
      "outputs": [
        {
          "output_type": "stream",
          "name": "stdout",
          "text": [
            "digite um valor:4\n",
            "digite um valor:3\n",
            "digite um valor:8\n",
            "O menor valor foi 3 e o maior valor foi 8\n"
          ]
        }
      ]
    },
    {
      "cell_type": "markdown",
      "source": [],
      "metadata": {
        "id": "szsV7tlpK3tg"
      }
    },
    {
      "cell_type": "code",
      "source": [
        "8"
      ],
      "metadata": {
        "id": "HYSbzlKuIdZh"
      },
      "execution_count": null,
      "outputs": []
    }
  ]
}