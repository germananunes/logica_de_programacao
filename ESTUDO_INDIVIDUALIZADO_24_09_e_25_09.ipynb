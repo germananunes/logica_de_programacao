{
  "nbformat": 4,
  "nbformat_minor": 0,
  "metadata": {
    "colab": {
      "provenance": [],
      "authorship_tag": "ABX9TyM6D0LkWVop0e0kr+44dECQ",
      "include_colab_link": true
    },
    "kernelspec": {
      "name": "python3",
      "display_name": "Python 3"
    },
    "language_info": {
      "name": "python"
    }
  },
  "cells": [
    {
      "cell_type": "markdown",
      "metadata": {
        "id": "view-in-github",
        "colab_type": "text"
      },
      "source": [
        "<a href=\"https://colab.research.google.com/github/germananunes/logica_de_programacao/blob/main/ESTUDO_INDIVIDUALIZADO_24_09_e_25_09.ipynb\" target=\"_parent\"><img src=\"https://colab.research.google.com/assets/colab-badge.svg\" alt=\"Open In Colab\"/></a>"
      ]
    },
    {
      "cell_type": "code",
      "execution_count": null,
      "metadata": {
        "colab": {
          "base_uri": "https://localhost:8080/"
        },
        "id": "OjM6uJiKHc3_",
        "outputId": "edf805b6-c586-4182-ee63-72bbe2831282"
      },
      "outputs": [
        {
          "output_type": "stream",
          "name": "stdout",
          "text": [
            "10\n",
            "9\n",
            "8\n",
            "7\n",
            "6\n",
            "5\n",
            "4\n",
            "3\n",
            "2\n",
            "1\n",
            "0\n",
            "bUM! BUM! POW! fELIZ ANO NOVO!!!\n"
          ]
        }
      ],
      "source": [
        "#LAÇO COM VARIÁVEL DE CONTROLE\n",
        "# FOR\n",
        "from time import sleep\n",
        "for i in range (10,-1,-1):\n",
        "  print(i)\n",
        "  sleep(1)\n",
        "print(\"bUM! BUM! POW! fELIZ ANO NOVO!!!\")"
      ]
    },
    {
      "cell_type": "code",
      "source": [
        "for i in range (0,50,2):\n",
        "  print(i)"
      ],
      "metadata": {
        "colab": {
          "base_uri": "https://localhost:8080/"
        },
        "id": "OSyLPMFqNkS4",
        "outputId": "a3333d6b-5baf-4844-9143-255aa6be0ec1"
      },
      "execution_count": null,
      "outputs": [
        {
          "output_type": "stream",
          "name": "stdout",
          "text": [
            "0\n",
            "2\n",
            "4\n",
            "6\n",
            "8\n",
            "10\n",
            "12\n",
            "14\n",
            "16\n",
            "18\n",
            "20\n",
            "22\n",
            "24\n",
            "26\n",
            "28\n",
            "30\n",
            "32\n",
            "34\n",
            "36\n",
            "38\n",
            "40\n",
            "42\n",
            "44\n",
            "46\n",
            "48\n"
          ]
        }
      ]
    },
    {
      "cell_type": "code",
      "source": [
        "c = 0\n",
        "soma = 0\n",
        "for i in range (1,501,2):\n",
        "  if i%3 == 0:\n",
        "    c +=1\n",
        "    soma += i\n",
        "print(f'Foram {c} multiplos de 3 e a soma deles é {soma}')"
      ],
      "metadata": {
        "colab": {
          "base_uri": "https://localhost:8080/"
        },
        "id": "TvHX5bllQKxp",
        "outputId": "03414018-ba1c-4dca-bca2-d3539097fbaa"
      },
      "execution_count": null,
      "outputs": [
        {
          "output_type": "stream",
          "name": "stdout",
          "text": [
            "Foram 83 multiplos de 3 e a soma deles é 20667\n"
          ]
        }
      ]
    },
    {
      "cell_type": "code",
      "source": [
        "n = int(input(\"Digite um número:\"))\n",
        "\n",
        "for i in range (0,11):\n",
        "  tab = n * i\n",
        "  print(f'{i} x {n} = {tab}')"
      ],
      "metadata": {
        "colab": {
          "base_uri": "https://localhost:8080/"
        },
        "id": "RsoFidPsQqfy",
        "outputId": "0f866534-5255-4a9f-b56a-dfd1a07875e5"
      },
      "execution_count": null,
      "outputs": [
        {
          "output_type": "stream",
          "name": "stdout",
          "text": [
            "Digite um número:5\n",
            "0 x 5 = 0\n",
            "1 x 5 = 5\n",
            "2 x 5 = 10\n",
            "3 x 5 = 15\n",
            "4 x 5 = 20\n",
            "5 x 5 = 25\n",
            "6 x 5 = 30\n",
            "7 x 5 = 35\n",
            "8 x 5 = 40\n",
            "9 x 5 = 45\n",
            "10 x 5 = 50\n"
          ]
        }
      ]
    },
    {
      "cell_type": "code",
      "source": [
        "\n",
        "soma = 0\n",
        "for i in range (0,7,2):\n",
        "  soma += i\n",
        "print(soma)"
      ],
      "metadata": {
        "colab": {
          "base_uri": "https://localhost:8080/"
        },
        "id": "2sTP7JegTHGg",
        "outputId": "65e7a618-ecf8-4ef8-bc64-a17677eb6658"
      },
      "execution_count": null,
      "outputs": [
        {
          "output_type": "stream",
          "name": "stdout",
          "text": [
            "12\n"
          ]
        }
      ]
    },
    {
      "cell_type": "code",
      "source": [
        "pt = int(input(\"Digite um número inteiro:\"))\n",
        "r = int(input(\"Digite um número inteiro:\"))\n",
        "\n",
        "for i in range(pt,(pt + 10*r),r):\n",
        "  print(i)"
      ],
      "metadata": {
        "colab": {
          "base_uri": "https://localhost:8080/"
        },
        "id": "T8GWQyo0Tkn6",
        "outputId": "fc725855-89b6-4302-89ea-d87237be2270"
      },
      "execution_count": null,
      "outputs": [
        {
          "output_type": "stream",
          "name": "stdout",
          "text": [
            "Digite um número inteiro:4\n",
            "Digite um número inteiro:2\n",
            "4\n",
            "6\n",
            "8\n",
            "10\n",
            "12\n",
            "14\n",
            "16\n",
            "18\n",
            "20\n",
            "22\n"
          ]
        }
      ]
    },
    {
      "cell_type": "code",
      "source": [
        "num = int(input(\"Digite um número:\"))\n",
        "\n",
        "tot = 0\n",
        "\n",
        "for i in range (1,num+1):\n",
        "  if num % i == 0:\n",
        "    tot +=1\n",
        "print(f'O número {num} foi dividido {tot} vezes.')\n",
        "if tot == 2:\n",
        "  print('Ele é primo')\n",
        "else:\n",
        "  print('Ele não é primo')"
      ],
      "metadata": {
        "colab": {
          "base_uri": "https://localhost:8080/"
        },
        "id": "lFlmObOlbjpi",
        "outputId": "36a85932-6f5c-45e6-af22-859dfd4146a6"
      },
      "execution_count": null,
      "outputs": [
        {
          "output_type": "stream",
          "name": "stdout",
          "text": [
            "Digite um número:7\n",
            "O número 7 foi dividido 2 vezes.\n",
            "Ele é primo\n"
          ]
        }
      ]
    },
    {
      "cell_type": "code",
      "source": [
        "#usando o for\n",
        "frase = input(\"Digite uma frase:\").strip().upper()\n",
        "palavras = frase.split() #ele transformou a string em uma lista\n",
        "junto = ''.join(palavras)\n",
        "inverso = ''\n",
        "\n",
        "for  letra in range(len(junto) -1, -1, -1):\n",
        "  inverso += junto[letra]\n",
        "if inverso == junto:\n",
        "  print('É palíndromo')\n",
        "else:\n",
        "  print(\"Não é palíndromo\")\n",
        "print(junto,inverso)\n",
        "  \n",
        "#print(junto[letra]) #para imprimir o valor da str, é preciso dizer o nome_string[item string]\n",
        "\n",
        "    "
      ],
      "metadata": {
        "colab": {
          "base_uri": "https://localhost:8080/"
        },
        "id": "2mC6zCcjmuxM",
        "outputId": "94e1b4f3-0ee6-47d3-e597-e75180aab13c"
      },
      "execution_count": null,
      "outputs": [
        {
          "output_type": "stream",
          "name": "stdout",
          "text": [
            "Digite uma frase:apos a sopa\n",
            "É palíndromo\n",
            "APOSASOPA APOSASOPA\n"
          ]
        }
      ]
    },
    {
      "cell_type": "code",
      "source": [
        "#usando fatiamento\n",
        "\n",
        "frase = input(\"Digite uma frase:\").strip().upper()\n",
        "palavras = frase.split() #ele transformou a string em uma lista\n",
        "junto = ''.join(palavras)\n",
        "inverso = junto[::-1] #fatiamento\n",
        "\n",
        "if inverso == junto:\n",
        "  print('É palíndromo')\n",
        "else:\n",
        "  print(\"Não é palíndromo\")\n",
        "print(junto,inverso)"
      ],
      "metadata": {
        "colab": {
          "base_uri": "https://localhost:8080/"
        },
        "id": "bU1aGnTyhZqu",
        "outputId": "043bdeec-fadb-40cc-e2e5-4a348f1e1dfe"
      },
      "execution_count": null,
      "outputs": [
        {
          "output_type": "stream",
          "name": "stdout",
          "text": [
            "Digite uma frase:anotaram a data da maratona\n",
            "É palíndromo\n",
            "ANOTARAMADATADAMARATONA ANOTARAMADATADAMARATONA\n"
          ]
        }
      ]
    },
    {
      "cell_type": "code",
      "source": [
        "from datetime import date\n",
        "atual = date.today().year #pegando so o ano atual\n",
        "cont_maior = 0\n",
        "cont_menor = 0\n",
        "for i in range(1,8):\n",
        "  nasc = int(input(\"Digite o ano de nascimento\"))\n",
        "  if atual - nasc >= 18:\n",
        "    cont_maior += 1\n",
        "  else:\n",
        "    cont_menor += 1\n",
        "\n",
        "print(f'São {cont_maior} maiores de 18 anos e {cont_menor} abaixo de 18 anos')"
      ],
      "metadata": {
        "colab": {
          "base_uri": "https://localhost:8080/"
        },
        "id": "vCladji8mau_",
        "outputId": "9f85f371-9b4c-4784-df0b-2fb8370b80f7"
      },
      "execution_count": null,
      "outputs": [
        {
          "output_type": "stream",
          "name": "stdout",
          "text": [
            "Digite o ano de nascimento2004\n",
            "Digite o ano de nascimento2021\n",
            "Digite o ano de nascimento1994\n",
            "Digite o ano de nascimento1995\n",
            "Digite o ano de nascimento1991\n",
            "Digite o ano de nascimento2000\n",
            "Digite o ano de nascimento2003\n",
            "São 6 maiores de 18 anos e 1 abaixo de 18 anos\n"
          ]
        }
      ]
    },
    {
      "cell_type": "code",
      "source": [
        "lista = []\n",
        "for i in range (0,6):\n",
        "  peso = int(input(\"Digite seu peso:\"))\n",
        "  lista.append(peso)\n",
        "print(max(lista),min(lista))"
      ],
      "metadata": {
        "colab": {
          "base_uri": "https://localhost:8080/"
        },
        "id": "h8peZ0G8oJdw",
        "outputId": "fa11a8e3-2f3c-4be1-b7ca-2ed5d5e15ec5"
      },
      "execution_count": null,
      "outputs": [
        {
          "output_type": "stream",
          "name": "stdout",
          "text": [
            "Digite seu peso:54\n",
            "Digite seu peso:45\n",
            "Digite seu peso:90\n",
            "Digite seu peso:78\n",
            "Digite seu peso:63\n",
            "Digite seu peso:62\n",
            "90 45\n"
          ]
        }
      ]
    },
    {
      "cell_type": "code",
      "source": [
        "soma_idade = 0\n",
        "média_idade = 0\n",
        "maioridade_homem = 0\n",
        "nomevelho = ''\n",
        "totmulher20 = 0\n",
        "for i in range(1,5):\n",
        "  print(\"---------{}ª PESSOA ------\".format(i))\n",
        "  nome = input(\"Nome: \").strip()\n",
        "  idade = int(input(\"Idade:\"))\n",
        "  sexo = input(\"Sexo: [M/F]\").strip()\n",
        "  soma_idade += idade\n",
        "  if i == 1 and sexo in 'Mm':\n",
        "    maioridade_homem = idade\n",
        "    nomevelho = nome\n",
        "  if sexo in 'Mm' and idade > maioridade_homem:\n",
        "    maioridade_homem = idade\n",
        "    nomevelho = nome\n",
        "  if sexo in 'Ff' and idade < 20:\n",
        "    totmulher20 += 1\n",
        "média_idade = soma_idade/4\n",
        "print(média_idade)\n",
        "print(f\"O homem mais velho tem {maioridade_homem} e o nome dele é {nomevelho}\")\n",
        "print(f'São {totmulher20} mulheres com menos de 20 anos')"
      ],
      "metadata": {
        "colab": {
          "base_uri": "https://localhost:8080/"
        },
        "id": "NnwTzUUM5TLt",
        "outputId": "4683c93a-b4bd-4642-f68f-505084ed597c"
      },
      "execution_count": null,
      "outputs": [
        {
          "output_type": "stream",
          "name": "stdout",
          "text": [
            "---------1ª PESSOA ------\n",
            "Nome: germana\n",
            "Idade:28\n",
            "Sexo: [M/F]f\n",
            "---------2ª PESSOA ------\n",
            "Nome: vitor\n",
            "Idade:33\n",
            "Sexo: [M/F]m\n",
            "---------3ª PESSOA ------\n",
            "Nome: bia\n",
            "Idade:12\n",
            "Sexo: [M/F]f\n",
            "---------4ª PESSOA ------\n",
            "Nome: luiz\n",
            "Idade:45\n",
            "Sexo: [M/F]m\n",
            "29.5\n",
            "O homem mais velho tem 45 e o nome dele é luiz\n",
            "São 1 mulheres com menos de 20 anos\n"
          ]
        }
      ]
    },
    {
      "cell_type": "code",
      "source": [
        "# ESTRUTURA DE REPETIÇÃO COM VARIÁVEL DE CONTROLE\n",
        " # WHILE\n",
        "\n",
        "sexo = input('Digite seu sexo: [M/F]').upper()\n",
        "while sexo != 'M' and sexo != 'F':\n",
        "  print(sexo)\n",
        "  sexo = input('Digite seu sexo: [M/F]').upper()\n"
      ],
      "metadata": {
        "colab": {
          "base_uri": "https://localhost:8080/"
        },
        "id": "UmALHvv08VDE",
        "outputId": "cdeef1bc-7b4c-447b-ea90-bed89507b65c"
      },
      "execution_count": null,
      "outputs": [
        {
          "name": "stdout",
          "output_type": "stream",
          "text": [
            "Digite seu sexo: [M/F]g\n",
            "G\n",
            "Digite seu sexo: [M/F]j\n",
            "J\n",
            "Digite seu sexo: [M/F]m\n"
          ]
        }
      ]
    },
    {
      "cell_type": "code",
      "source": [
        "from random import randint\n",
        "num = randint(0,10)\n",
        "adv = int(input(\"Escolha um número entre 0 e 10:\"))\n",
        "cont = 0\n",
        "while adv != num:\n",
        "  adv = int(input(\"Escolha um número entre 0 e 10:\"))\n",
        "  cont += 1\n",
        "  if adv == num:\n",
        "    print(f\"Você acertou. O número sorteado foi {num}. Foi preciso {cont} tentativas para acertar.\")\n"
      ],
      "metadata": {
        "id": "xQFkaGtVzQ5_",
        "colab": {
          "base_uri": "https://localhost:8080/"
        },
        "outputId": "a11614c7-c51c-4daa-b7e0-64aec82ffdb8"
      },
      "execution_count": null,
      "outputs": [
        {
          "output_type": "stream",
          "name": "stdout",
          "text": [
            "Escolha um número entre 0 e 10:5\n",
            "Escolha um número entre 0 e 10:4\n",
            "Escolha um número entre 0 e 10:3\n",
            "Escolha um número entre 0 e 10:2\n",
            "Escolha um número entre 0 e 10:8\n",
            "Escolha um número entre 0 e 10:9\n",
            "Escolha um número entre 0 e 10:7\n",
            "Você acertou. O número sorteado foi 7. Foi preciso 6 tentativas para acertar.\n"
          ]
        }
      ]
    },
    {
      "cell_type": "code",
      "source": [
        "v1 = int(input(\"Escolha um número entre 0 e 10:\"))\n",
        "v2 = int(input(\"Escolha um número entre 0 e 10:\"))\n",
        "opera = int(input(\"Escolha uma operação: [1] somar [2] multiplicar [3] maior [4] novos números [5] sair do programa\"))\n",
        "while opera != 5:\n",
        "  \n",
        "  if opera == 1:\n",
        "    soma = v1 + v2\n",
        "    print(soma)\n",
        "  if opera == 2:\n",
        "    mult = v1 * v2\n",
        "    print(mult)\n",
        "  if opera == 3:\n",
        "    maior = v1\n",
        "    if v2 > v1:\n",
        "      maior = v2\n",
        "      print(maior)\n",
        "  if opera == 4:\n",
        "    v1 = int(input(\"Escolha um número entre 0 e 10:\"))\n",
        "    v2 = int(input(\"Escolha um número entre 0 e 10:\"))\n"
      ],
      "metadata": {
        "colab": {
          "base_uri": "https://localhost:8080/"
        },
        "id": "VFOgadOu1qOW",
        "outputId": "e14f8776-6d9e-44c6-dd2a-7f64564c771f"
      },
      "execution_count": null,
      "outputs": [
        {
          "name": "stdout",
          "output_type": "stream",
          "text": [
            "Escolha um número entre 0 e 10:1\n",
            "Escolha um número entre 0 e 10:2\n",
            "Escolha uma operação: [1] somar [2] multiplicar [3] maior [4] novos números [5] sair do programa5\n"
          ]
        }
      ]
    },
    {
      "cell_type": "code",
      "source": [
        "n = int(input(\"Escolha um número entre 0 e 10:\"))\n",
        "cont = 0 \n",
        "fat = 1\n",
        "while cont < n:\n",
        "  cont+=1\n",
        "  fat *= cont\n",
        "print(f'{n}! é igual a {fat} ')\n"
      ],
      "metadata": {
        "colab": {
          "base_uri": "https://localhost:8080/"
        },
        "id": "j5uB2R5n661d",
        "outputId": "dfe8c035-076a-4575-8838-2b8ce172d437"
      },
      "execution_count": null,
      "outputs": [
        {
          "output_type": "stream",
          "name": "stdout",
          "text": [
            "Escolha um número entre 0 e 10:5\n",
            "5! é igual a 120 \n"
          ]
        }
      ]
    },
    {
      "cell_type": "code",
      "source": [
        "pt = int(input(\"Digite um número inteiro:\"))\n",
        "r = int(input(\"Digite um número inteiro:\"))\n",
        "an = pt\n",
        "cont = 1\n",
        "total = 0\n",
        "mais = 10\n",
        "while mais != 0:\n",
        "  total += mais\n",
        "  while cont <= total:\n",
        "    print(an)\n",
        "    an += r\n",
        "    cont += 1\n",
        "  print('PAUSA')\n",
        "  mais = int(input(\"Você deseja ver mais quantos número? \"))\n",
        "print(f\"Foram gerados {total} termos da PA\")\n",
        "    \n"
      ],
      "metadata": {
        "colab": {
          "base_uri": "https://localhost:8080/"
        },
        "id": "LqWHGWU_8I16",
        "outputId": "32e44408-c2cf-4cc2-9f08-9c056530e336"
      },
      "execution_count": null,
      "outputs": [
        {
          "output_type": "stream",
          "name": "stdout",
          "text": [
            "Digite um número inteiro:4\n",
            "Digite um número inteiro:2\n",
            "4\n",
            "6\n",
            "8\n",
            "10\n",
            "12\n",
            "14\n",
            "16\n",
            "18\n",
            "20\n",
            "22\n",
            "PAUSA\n",
            "Você deseja ver mais quantos número? 5\n",
            "24\n",
            "26\n",
            "28\n",
            "30\n",
            "32\n",
            "PAUSA\n",
            "Você deseja ver mais quantos número? 3\n",
            "34\n",
            "36\n",
            "38\n",
            "PAUSA\n",
            "Você deseja ver mais quantos número? 0\n",
            "Foram gerados 18 termos da PA\n"
          ]
        }
      ]
    },
    {
      "cell_type": "code",
      "source": [],
      "metadata": {
        "id": "QK13LO4M_jxN"
      },
      "execution_count": null,
      "outputs": []
    }
  ]
}