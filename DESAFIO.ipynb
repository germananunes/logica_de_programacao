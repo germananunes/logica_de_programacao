{
  "nbformat": 4,
  "nbformat_minor": 0,
  "metadata": {
    "colab": {
      "provenance": [],
      "authorship_tag": "ABX9TyOw5+NBHSmUNQe9rCdZvUho",
      "include_colab_link": true
    },
    "kernelspec": {
      "name": "python3",
      "display_name": "Python 3"
    },
    "language_info": {
      "name": "python"
    }
  },
  "cells": [
    {
      "cell_type": "markdown",
      "metadata": {
        "id": "view-in-github",
        "colab_type": "text"
      },
      "source": [
        "<a href=\"https://colab.research.google.com/github/germananunes/logica_de_programacao/blob/main/DESAFIO.ipynb\" target=\"_parent\"><img src=\"https://colab.research.google.com/assets/colab-badge.svg\" alt=\"Open In Colab\"/></a>"
      ]
    },
    {
      "cell_type": "code",
      "execution_count": null,
      "metadata": {
        "colab": {
          "base_uri": "https://localhost:8080/"
        },
        "id": "WcHksIKIbdXk",
        "outputId": "b1fd163d-c75b-443a-8830-209222dce36a"
      },
      "outputs": [
        {
          "name": "stdout",
          "output_type": "stream",
          "text": [
            "Boas vindas ao nosso sistema:\n",
            "1 - Inserir usuário\n",
            "2 - Excluir usuário\n",
            "3 - Atualizar usuário\n",
            "4 - Informações de um usuário\n",
            "5 - Informações de todos os usuários\n",
            "6 - Sair\n",
            "Digite o comando que deseja iniciar: 1\n",
            "\n",
            "Digite as informações do usuário separadas por vírgula. Ex.: Germana Nunes, 08532371318, Rua Gustavo Sampaio Germana Nunes, 08532371318, Rua Gustavo Sampaio\n",
            "O novo usuário inserido foi: \n",
            "ID: 6 \n",
            "Nome: GERMANA NUNES \n",
            "Tel:  08532371318 \n",
            "End:  RUA GUSTAVO SAMPAIO\n",
            "\n",
            "Digite o comando para continuar ou sair do programa:\n",
            "1 - Inserir usuário\n",
            "2 - Excluir usuário\n",
            "3 - Atualizar usuário\n",
            "4 - Informações de um usuário\n",
            "5 - Informações de todos os usuários\n",
            "6 - Sair' 3\n",
            "\n",
            "Digite o id do usuário que deseja atualizar: 6\n",
            "Qual informação deseja alterar? \n",
            "1 - Nome\n",
            "2 - Tefone\n",
            "3 - Endereço\n",
            " 3\n",
            "Insira o novo endereço:Rua Ubajara\n",
            "O seguinte usuário foi atualizado: \n",
            "ID: 6 \n",
            "Nome: GERMANA NUNES \n",
            "Tel:  08532371318 \n",
            "End: RUA UBAJARA\n",
            "\n",
            "Digite o comando para continuar ou sair do programa:\n",
            "1 - Inserir usuário\n",
            "2 - Excluir usuário\n",
            "3 - Atualizar usuário\n",
            "4 - Informações de um usuário\n",
            "5 - Informações de todos os usuários\n",
            "6 - Sair' 6\n"
          ]
        }
      ],
      "source": [
        "print('Boas vindas ao nosso sistema:\\n1 - Inserir usuário\\n2 - Excluir usuário\\n3 - Atualizar usuário\\n4 - Informações de um usuário\\n5 - Informações de todos os usuários\\n6 - Sair')\n",
        "comand = int(input(\"Digite o comando que deseja iniciar: \"))\n",
        "id = 5 \n",
        "lista_user = [['IVISSON_CESAR', '_2345678', '_MAIOBÃO', 1, True], \n",
        "              ['ALEX_LIMA', '_2345678', '_RUA_TOP', 2, True], \n",
        "              ['DAVI_NASCIMENTO', '_2345678', '_RUA_BOA', 3, True], \n",
        "              ['VIRGINIA_NUNES', '_08532814640', '_RUA_GUSTAVO_SAMPAIO', 4, True], \n",
        "              ['JOSÉ_NUNES', '_085999961862', '_RUA_GUSTAVO_SAMPAIO', 5, True]]\n",
        "lista_id = [1,2,3,4,5] #nao aguantava mais n conseguir ir dentro da lista checar, decidi criar um lista com ids pra rodar logo de uma vez por todas!!\n",
        "while comand != 6: #setei o laço para rodar enquanto n tiver condição de parada (6)\n",
        "  \n",
        "  if comand == 1:\n",
        "    cadastro = input(\"\\nDigite as informações do usuário separadas por vírgula. Ex.: Germana Nunes, 08532371318, Rua Gustavo Sampaio \").replace(\" \",\"_\").upper()\n",
        "    user = cadastro.split(',')\n",
        "    id +=1\n",
        "    status = True\n",
        "    lista_id.append(id)\n",
        "    user.append(id)\n",
        "    user.append(status) \n",
        "    lista_user.append(user)\n",
        "    print(f'O novo usuário inserido foi: \\nID: {lista_user[-1][-2]} \\nNome: {lista_user[-1][0].replace(\"_\",\" \")} \\nTel: {lista_user[-1][1].replace(\"_\",\" \")} \\nEnd: {lista_user[-1][2].replace(\"_\",\" \")}')\n",
        "    comand = int(input(\"\\nDigite o comando para continuar ou sair do programa:\\n1 - Inserir usuário\\n2 - Excluir usuário\\n3 - Atualizar usuário\\n4 - Informações de um usuário\\n5 - Informações de todos os usuários\\n6 - Sair' \"))\n",
        "  \n",
        "  if comand == 2:\n",
        "    novo_status = False\n",
        "    esc = int(input(\"\\nDigite o id do usuário que deseja excluir: \")) # a posição do user requerido na lista_user é (id-1) e ai eu vou dar um .pop() e dps um append (novo_status)\n",
        "    while esc not in lista_id:\n",
        "      print(\"Usuário não encontrado no banco de dados.\")\n",
        "      esc = int(input(\"Digite o id do usuário que deseja excluir: \"))\n",
        "    for i in range(len(lista_user)):\n",
        "      lista_user[esc-1].pop()\n",
        "      lista_user[esc-1].append(novo_status)\n",
        "    print(f'O seguinte usuário foi desativado: \\nID: {lista_user[esc-1][-2]} \\nNome: {lista_user[esc-1][0].replace(\"_\",\" \")} \\nTel: {lista_user[esc-1][1].replace(\"_\",\" \")} \\nEnd: {lista_user[esc-1][2].replace(\"_\",\" \")} \\nStatus:{lista_user[esc-1][-1]}')\n",
        "    comand = int(input(\"\\nDigite o comando para continuar ou sair do programa:\\n1 - Inserir usuário\\n2 - Excluir usuário\\n3 - Atualizar usuário\\n4 - Informações de um usuário\\n5 - Informações de todos os usuários\\n6 - Sair' \")) \n",
        "  \n",
        "  if comand == 3:\n",
        "    att = int(input(\"\\nDigite o id do usuário que deseja atualizar: \"))\n",
        "    while att not in lista_id:\n",
        "       print(\"Usuário não encontrado no banco de dados.\")\n",
        "       att = int(input(\"\\nDigite o id do usuário que deseja atualizar: \"))\n",
        "    com = int(input(\"Qual informação deseja alterar? \\n1 - Nome\\n2 - Tefone\\n3 - Endereço\\n \"))\n",
        "    if com == 1:\n",
        "      nome = input(\"Insira o novo nome:\").replace(\" \",\"_\").upper()\n",
        "      for i in range(len(lista_user)):  \n",
        "        lista_user[att-1].pop(0)\n",
        "        lista_user[att-1].insert(0,nome)\n",
        "    if com == 2:\n",
        "      tel = input(\"Insira o novo telefone:\").replace(\" \",\"_\").upper()\n",
        "      for i in range(len(lista_user)):  \n",
        "        lista_user[att-1].pop(1)\n",
        "        lista_user[att-1].insert(1,tel)\n",
        "    if com == 3:\n",
        "      end = input(\"Insira o novo endereço:\").replace(\" \",\"_\").upper()\n",
        "      for i in range(len(lista_user)):  \n",
        "        lista_user[att-1].pop(2)\n",
        "        lista_user[att-1].insert(2,end)  \n",
        "    print(f'O seguinte usuário foi atualizado: \\nID: {lista_user[att-1][-2]} \\nNome: {lista_user[att-1][0].replace(\"_\",\" \")} \\nTel: {lista_user[att-1][1].replace(\"_\",\" \")} \\nEnd: {lista_user[att-1][2].replace(\"_\",\" \")}')\n",
        "    comand = int(input(\"\\nDigite o comando para continuar ou sair do programa:\\n1 - Inserir usuário\\n2 - Excluir usuário\\n3 - Atualizar usuário\\n4 - Informações de um usuário\\n5 - Informações de todos os usuários\\n6 - Sair' \"))\n",
        "  \n",
        "  if comand == 4:\n",
        "    info = int(input(\"\\nDigite o id do usuário que deseja ver: \"))\n",
        "    while info not in lista_id:\n",
        "      print(\"Usuário não encontrado no banco de dados.\") \n",
        "      info = int(input(\"Digite o id do usuário que deseja ver: \"))\n",
        "    print(f'O usuário solicitado é: \\nID: {lista_user[info-1][-2]} \\nNome: {lista_user[info-1][0].replace(\"_\",\" \")} \\nTel: {lista_user[info-1][1].replace(\"_\",\" \")} \\nEnd: {lista_user[info-1][2].replace(\"_\",\" \")}')\n",
        "    comand = int(input(\"\\nDigite o comando para continuar ou sair do programa:\\n1 - Inserir usuário\\n2 - Excluir usuário\\n3 - Atualizar usuário\\n4 - Informações de um usuário\\n5 - Informações de todos os usuários\\n6 - Sair' \"))\n",
        "  \n",
        "  if comand == 5:   \n",
        "    for lis in lista_user:\n",
        "      print(f'ID: {lis[-2]} \\nNome: {lis[0].replace(\"_\",\" \")} \\nTel: {lis[1].replace(\"_\",\" \")} \\nEnd: {lis[2].replace(\"_\",\" \")} \\nStatus: {lis[-1]}')\n",
        "    comand = int(input(\"\\nDigite o comando para continuar ou sair do programa:\\n1 - Inserir usuário\\n2 - Excluir usuário\\n3 - Atualizar usuário\\n4 - Informações de um usuário\\n5 - Informações de todos os usuários\\n6 - Sair' \"))         \n",
        "            \n",
        "         \n",
        "            \n",
        "\n",
        "\n",
        "\n"
      ]
    },
    {
      "cell_type": "code",
      "source": [],
      "metadata": {
        "id": "T9zhNJfdjeAu"
      },
      "execution_count": null,
      "outputs": []
    }
  ]
}